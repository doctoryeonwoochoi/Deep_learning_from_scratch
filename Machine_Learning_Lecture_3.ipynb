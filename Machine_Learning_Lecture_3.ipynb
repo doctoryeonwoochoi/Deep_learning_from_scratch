{
  "nbformat": 4,
  "nbformat_minor": 0,
  "metadata": {
    "colab": {
      "provenance": [],
      "authorship_tag": "ABX9TyNcIle5EVx2vm/4+okyT0p6",
      "include_colab_link": true
    },
    "kernelspec": {
      "name": "python3",
      "display_name": "Python 3"
    },
    "language_info": {
      "name": "python"
    }
  },
  "cells": [
    {
      "cell_type": "markdown",
      "metadata": {
        "id": "view-in-github",
        "colab_type": "text"
      },
      "source": [
        "<a href=\"https://colab.research.google.com/github/doctoryeonwoochoi/Deep_learning_from_scratch/blob/main/Machine_Learning_Lecture_3.ipynb\" target=\"_parent\"><img src=\"https://colab.research.google.com/assets/colab-badge.svg\" alt=\"Open In Colab\"/></a>"
      ]
    },
    {
      "cell_type": "code",
      "execution_count": null,
      "metadata": {
        "colab": {
          "base_uri": "https://localhost:8080/"
        },
        "id": "ewDjPDtAXs1E",
        "outputId": "b5df60d2-1d97-410c-8f7e-b81ca411ac3f"
      },
      "outputs": [
        {
          "output_type": "stream",
          "name": "stdout",
          "text": [
            "0\n"
          ]
        }
      ],
      "source": [
        "from google.colab import drive\n",
        "drive.mount(\"/gdrive\", force_remount=True)"
      ]
    },
    {
      "cell_type": "code",
      "source": [
        "import pandas as pd\n",
        "from sklearn.preprocessing import LabelEncoder\n",
        "from sklearn import tree\n",
        "import graphviz\n",
        "\n",
        "# 데이터 경로\n",
        "file_path = \"/content/PlayTennis.csv\"\n",
        "# 데이터 경로로부터 파일을 읽음 (pandas 라이브러리 사용)\n",
        "datas = pd.read_csv(file_path)\n",
        "\n",
        "# 데이터 출력 (데이터 형태 확인)\n",
        "print(datas)"
      ],
      "metadata": {
        "id": "Rh4TiZ0il7fy"
      },
      "execution_count": null,
      "outputs": []
    },
    {
      "cell_type": "code",
      "source": [
        "import pandas as pd\n",
        "from sklearn.preprocessing import LabelEncoder\n",
        "from sklearn import tree\n",
        "import graphviz\n",
        "\n",
        "file_path = \"/content/PlayTennis.csv\"\n",
        "\n",
        "datas = pd.read_csv(file_path)\n",
        "\n",
        "print(datas)"
      ],
      "metadata": {
        "colab": {
          "base_uri": "https://localhost:8080/"
        },
        "id": "xYReMpSHNdGx",
        "outputId": "51d57f67-6431-462f-b4c0-b0cf5e5d50e4"
      },
      "execution_count": null,
      "outputs": [
        {
          "output_type": "stream",
          "name": "stdout",
          "text": [
            "     outlook  temp humidity  windy play\n",
            "0      sunny   hot     high  False   no\n",
            "1      sunny   hot     high   True   no\n",
            "2   overcast   hot     high  False  yes\n",
            "3      rainy  mild     high  False  yes\n",
            "4      rainy  cool   normal  False  yes\n",
            "5      rainy  cool   normal   True   no\n",
            "6   overcast  cool   normal   True  yes\n",
            "7      sunny  mild     high  False   no\n",
            "8      sunny  cool   normal  False  yes\n",
            "9      rainy  mild   normal  False  yes\n",
            "10     sunny  mild   normal   True  yes\n",
            "11  overcast  mild     high   True  yes\n",
            "12  overcast   hot   normal  False  yes\n",
            "13     rainy  mild     high   True   no\n"
          ]
        }
      ]
    },
    {
      "cell_type": "code",
      "source": [
        "# 범주형 데이터를 수치형 데이터로 자동 변환해주는 라이브러리\n",
        "label_encoder = LabelEncoder()\n",
        "\n",
        "# 정답 클래스 이름 (yes, no)\n",
        "target_names = label_encoder.fit(datas['play']).classes_\n",
        "print(\"target_names : {}\".format(target_names))\n",
        "\n",
        "datas['outlook'] = label_encoder.fit_transform(datas['outlook'])\n",
        "datas['temp'] = label_encoder.fit_transform(datas['temp'])\n",
        "datas['humidity'] = label_encoder.fit_transform(datas['humidity'])\n",
        "datas['windy'] = label_encoder.fit_transform(datas['windy'])\n",
        "datas['play'] = label_encoder.fit_transform(datas['play'])\n",
        "\n",
        "# 데이터 출력 (데이터 포맷 변환 후 결과 확인)\n",
        "print(datas)"
      ],
      "metadata": {
        "colab": {
          "base_uri": "https://localhost:8080/"
        },
        "id": "_rYIhpRGN5VE",
        "outputId": "21ae7774-2537-4f09-cfe5-b8a6fa69fd3c"
      },
      "execution_count": null,
      "outputs": [
        {
          "output_type": "stream",
          "name": "stdout",
          "text": [
            "target_names : ['no' 'yes']\n",
            "    outlook  temp  humidity  windy  play\n",
            "0         2     1         0      0     0\n",
            "1         2     1         0      1     0\n",
            "2         0     1         0      0     1\n",
            "3         1     2         0      0     1\n",
            "4         1     0         1      0     1\n",
            "5         1     0         1      1     0\n",
            "6         0     0         1      1     1\n",
            "7         2     2         0      0     0\n",
            "8         2     0         1      0     1\n",
            "9         1     2         1      0     1\n",
            "10        2     2         1      1     1\n",
            "11        0     2         0      1     1\n",
            "12        0     1         1      0     1\n",
            "13        1     2         0      1     0\n"
          ]
        }
      ]
    },
    {
      "cell_type": "code",
      "source": [
        "# 입력 데이터와 정답 데이터로 분리\n",
        "x_data, y_data = datas.drop(['play'], axis=1), datas['play']\n",
        "\n",
        "# 분리 결과 확인\n",
        "print(x_data)\n",
        "print()\n",
        "print(y_data)"
      ],
      "metadata": {
        "colab": {
          "base_uri": "https://localhost:8080/"
        },
        "id": "6eMjSB2QOoiR",
        "outputId": "2427eedb-32a3-4e64-ab4b-586395c35b24"
      },
      "execution_count": null,
      "outputs": [
        {
          "output_type": "stream",
          "name": "stdout",
          "text": [
            "    outlook  temp  humidity  windy\n",
            "0         2     1         0      0\n",
            "1         2     1         0      1\n",
            "2         0     1         0      0\n",
            "3         1     2         0      0\n",
            "4         1     0         1      0\n",
            "5         1     0         1      1\n",
            "6         0     0         1      1\n",
            "7         2     2         0      0\n",
            "8         2     0         1      0\n",
            "9         1     2         1      0\n",
            "10        2     2         1      1\n",
            "11        0     2         0      1\n",
            "12        0     1         1      0\n",
            "13        1     2         0      1\n",
            "\n",
            "0     0\n",
            "1     0\n",
            "2     1\n",
            "3     1\n",
            "4     1\n",
            "5     0\n",
            "6     1\n",
            "7     0\n",
            "8     1\n",
            "9     1\n",
            "10    1\n",
            "11    1\n",
            "12    1\n",
            "13    0\n",
            "Name: play, dtype: int64\n"
          ]
        }
      ]
    },
    {
      "cell_type": "code",
      "source": [
        "# Decision tree 모델 학습 ()\n",
        "decision_tree = tree.DecisionTreeClassifier(criterion = 'entropy')\n",
        "train_result = decision_tree.fit(x_data, y_data)"
      ],
      "metadata": {
        "id": "luiX7z-SVMuC"
      },
      "execution_count": null,
      "outputs": []
    },
    {
      "cell_type": "code",
      "source": [
        "# 학습 결과 확인 (graphviz 라이브러리 사용)\n",
        "graph = graphviz.Source(tree.export_graphviz(train_result, out_file=None,\n",
        "                                             feature_names=x_data.columns,\n",
        "                                             class_names=target_names))\n",
        "graph"
      ],
      "metadata": {
        "colab": {
          "base_uri": "https://localhost:8080/",
          "height": 758
        },
        "id": "vZKppHS_VQTr",
        "outputId": "a5b943c1-9f13-49a3-f83e-a25492516980"
      },
      "execution_count": null,
      "outputs": [
        {
          "output_type": "execute_result",
          "data": {
            "image/svg+xml": "<?xml version=\"1.0\" encoding=\"UTF-8\" standalone=\"no\"?>\n<!DOCTYPE svg PUBLIC \"-//W3C//DTD SVG 1.1//EN\"\n \"http://www.w3.org/Graphics/SVG/1.1/DTD/svg11.dtd\">\n<!-- Generated by graphviz version 2.43.0 (0)\n -->\n<!-- Title: Tree Pages: 1 -->\n<svg width=\"503pt\" height=\"552pt\"\n viewBox=\"0.00 0.00 503.00 552.00\" xmlns=\"http://www.w3.org/2000/svg\" xmlns:xlink=\"http://www.w3.org/1999/xlink\">\n<g id=\"graph0\" class=\"graph\" transform=\"scale(1 1) rotate(0) translate(4 548)\">\n<title>Tree</title>\n<polygon fill=\"white\" stroke=\"transparent\" points=\"-4,4 -4,-548 499,-548 499,4 -4,4\"/>\n<!-- 0 -->\n<g id=\"node1\" class=\"node\">\n<title>0</title>\n<polygon fill=\"none\" stroke=\"black\" points=\"210,-544 106,-544 106,-461 210,-461 210,-544\"/>\n<text text-anchor=\"middle\" x=\"158\" y=\"-528.8\" font-family=\"Helvetica,sans-Serif\" font-size=\"14.00\">outlook &lt;= 0.5</text>\n<text text-anchor=\"middle\" x=\"158\" y=\"-513.8\" font-family=\"Helvetica,sans-Serif\" font-size=\"14.00\">entropy = 0.94</text>\n<text text-anchor=\"middle\" x=\"158\" y=\"-498.8\" font-family=\"Helvetica,sans-Serif\" font-size=\"14.00\">samples = 14</text>\n<text text-anchor=\"middle\" x=\"158\" y=\"-483.8\" font-family=\"Helvetica,sans-Serif\" font-size=\"14.00\">value = [5, 9]</text>\n<text text-anchor=\"middle\" x=\"158\" y=\"-468.8\" font-family=\"Helvetica,sans-Serif\" font-size=\"14.00\">class = yes</text>\n</g>\n<!-- 1 -->\n<g id=\"node2\" class=\"node\">\n<title>1</title>\n<polygon fill=\"none\" stroke=\"black\" points=\"146,-417.5 50,-417.5 50,-349.5 146,-349.5 146,-417.5\"/>\n<text text-anchor=\"middle\" x=\"98\" y=\"-402.3\" font-family=\"Helvetica,sans-Serif\" font-size=\"14.00\">entropy = 0.0</text>\n<text text-anchor=\"middle\" x=\"98\" y=\"-387.3\" font-family=\"Helvetica,sans-Serif\" font-size=\"14.00\">samples = 4</text>\n<text text-anchor=\"middle\" x=\"98\" y=\"-372.3\" font-family=\"Helvetica,sans-Serif\" font-size=\"14.00\">value = [0, 4]</text>\n<text text-anchor=\"middle\" x=\"98\" y=\"-357.3\" font-family=\"Helvetica,sans-Serif\" font-size=\"14.00\">class = yes</text>\n</g>\n<!-- 0&#45;&gt;1 -->\n<g id=\"edge1\" class=\"edge\">\n<title>0&#45;&gt;1</title>\n<path fill=\"none\" stroke=\"black\" d=\"M137.18,-460.91C131.52,-449.87 125.38,-437.9 119.68,-426.77\"/>\n<polygon fill=\"black\" stroke=\"black\" points=\"122.69,-424.97 115.01,-417.67 116.46,-428.16 122.69,-424.97\"/>\n<text text-anchor=\"middle\" x=\"107.35\" y=\"-437.76\" font-family=\"Helvetica,sans-Serif\" font-size=\"14.00\">True</text>\n</g>\n<!-- 2 -->\n<g id=\"node3\" class=\"node\">\n<title>2</title>\n<polygon fill=\"none\" stroke=\"black\" points=\"274,-425 164,-425 164,-342 274,-342 274,-425\"/>\n<text text-anchor=\"middle\" x=\"219\" y=\"-409.8\" font-family=\"Helvetica,sans-Serif\" font-size=\"14.00\">humidity &lt;= 0.5</text>\n<text text-anchor=\"middle\" x=\"219\" y=\"-394.8\" font-family=\"Helvetica,sans-Serif\" font-size=\"14.00\">entropy = 1.0</text>\n<text text-anchor=\"middle\" x=\"219\" y=\"-379.8\" font-family=\"Helvetica,sans-Serif\" font-size=\"14.00\">samples = 10</text>\n<text text-anchor=\"middle\" x=\"219\" y=\"-364.8\" font-family=\"Helvetica,sans-Serif\" font-size=\"14.00\">value = [5, 5]</text>\n<text text-anchor=\"middle\" x=\"219\" y=\"-349.8\" font-family=\"Helvetica,sans-Serif\" font-size=\"14.00\">class = no</text>\n</g>\n<!-- 0&#45;&gt;2 -->\n<g id=\"edge2\" class=\"edge\">\n<title>0&#45;&gt;2</title>\n<path fill=\"none\" stroke=\"black\" d=\"M179.16,-460.91C183.71,-452.2 188.55,-442.9 193.25,-433.89\"/>\n<polygon fill=\"black\" stroke=\"black\" points=\"196.35,-435.51 197.87,-425.02 190.15,-432.27 196.35,-435.51\"/>\n<text text-anchor=\"middle\" x=\"205.38\" y=\"-445.17\" font-family=\"Helvetica,sans-Serif\" font-size=\"14.00\">False</text>\n</g>\n<!-- 3 -->\n<g id=\"node4\" class=\"node\">\n<title>3</title>\n<polygon fill=\"none\" stroke=\"black\" points=\"209.5,-306 98.5,-306 98.5,-223 209.5,-223 209.5,-306\"/>\n<text text-anchor=\"middle\" x=\"154\" y=\"-290.8\" font-family=\"Helvetica,sans-Serif\" font-size=\"14.00\">outlook &lt;= 1.5</text>\n<text text-anchor=\"middle\" x=\"154\" y=\"-275.8\" font-family=\"Helvetica,sans-Serif\" font-size=\"14.00\">entropy = 0.722</text>\n<text text-anchor=\"middle\" x=\"154\" y=\"-260.8\" font-family=\"Helvetica,sans-Serif\" font-size=\"14.00\">samples = 5</text>\n<text text-anchor=\"middle\" x=\"154\" y=\"-245.8\" font-family=\"Helvetica,sans-Serif\" font-size=\"14.00\">value = [4, 1]</text>\n<text text-anchor=\"middle\" x=\"154\" y=\"-230.8\" font-family=\"Helvetica,sans-Serif\" font-size=\"14.00\">class = no</text>\n</g>\n<!-- 2&#45;&gt;3 -->\n<g id=\"edge3\" class=\"edge\">\n<title>2&#45;&gt;3</title>\n<path fill=\"none\" stroke=\"black\" d=\"M196.45,-341.91C191.61,-333.2 186.44,-323.9 181.44,-314.89\"/>\n<polygon fill=\"black\" stroke=\"black\" points=\"184.43,-313.06 176.51,-306.02 178.31,-316.46 184.43,-313.06\"/>\n</g>\n<!-- 8 -->\n<g id=\"node9\" class=\"node\">\n<title>8</title>\n<polygon fill=\"none\" stroke=\"black\" points=\"338.5,-306 227.5,-306 227.5,-223 338.5,-223 338.5,-306\"/>\n<text text-anchor=\"middle\" x=\"283\" y=\"-290.8\" font-family=\"Helvetica,sans-Serif\" font-size=\"14.00\">windy &lt;= 0.5</text>\n<text text-anchor=\"middle\" x=\"283\" y=\"-275.8\" font-family=\"Helvetica,sans-Serif\" font-size=\"14.00\">entropy = 0.722</text>\n<text text-anchor=\"middle\" x=\"283\" y=\"-260.8\" font-family=\"Helvetica,sans-Serif\" font-size=\"14.00\">samples = 5</text>\n<text text-anchor=\"middle\" x=\"283\" y=\"-245.8\" font-family=\"Helvetica,sans-Serif\" font-size=\"14.00\">value = [1, 4]</text>\n<text text-anchor=\"middle\" x=\"283\" y=\"-230.8\" font-family=\"Helvetica,sans-Serif\" font-size=\"14.00\">class = yes</text>\n</g>\n<!-- 2&#45;&gt;8 -->\n<g id=\"edge8\" class=\"edge\">\n<title>2&#45;&gt;8</title>\n<path fill=\"none\" stroke=\"black\" d=\"M241.2,-341.91C245.97,-333.2 251.06,-323.9 255.98,-314.89\"/>\n<polygon fill=\"black\" stroke=\"black\" points=\"259.11,-316.47 260.83,-306.02 252.97,-313.11 259.11,-316.47\"/>\n</g>\n<!-- 4 -->\n<g id=\"node5\" class=\"node\">\n<title>4</title>\n<polygon fill=\"none\" stroke=\"black\" points=\"96,-187 0,-187 0,-104 96,-104 96,-187\"/>\n<text text-anchor=\"middle\" x=\"48\" y=\"-171.8\" font-family=\"Helvetica,sans-Serif\" font-size=\"14.00\">windy &lt;= 0.5</text>\n<text text-anchor=\"middle\" x=\"48\" y=\"-156.8\" font-family=\"Helvetica,sans-Serif\" font-size=\"14.00\">entropy = 1.0</text>\n<text text-anchor=\"middle\" x=\"48\" y=\"-141.8\" font-family=\"Helvetica,sans-Serif\" font-size=\"14.00\">samples = 2</text>\n<text text-anchor=\"middle\" x=\"48\" y=\"-126.8\" font-family=\"Helvetica,sans-Serif\" font-size=\"14.00\">value = [1, 1]</text>\n<text text-anchor=\"middle\" x=\"48\" y=\"-111.8\" font-family=\"Helvetica,sans-Serif\" font-size=\"14.00\">class = no</text>\n</g>\n<!-- 3&#45;&gt;4 -->\n<g id=\"edge4\" class=\"edge\">\n<title>3&#45;&gt;4</title>\n<path fill=\"none\" stroke=\"black\" d=\"M117.22,-222.91C108.92,-213.74 100.03,-203.93 91.48,-194.49\"/>\n<polygon fill=\"black\" stroke=\"black\" points=\"94.02,-192.08 84.71,-187.02 88.83,-196.78 94.02,-192.08\"/>\n</g>\n<!-- 7 -->\n<g id=\"node8\" class=\"node\">\n<title>7</title>\n<polygon fill=\"none\" stroke=\"black\" points=\"210,-179.5 114,-179.5 114,-111.5 210,-111.5 210,-179.5\"/>\n<text text-anchor=\"middle\" x=\"162\" y=\"-164.3\" font-family=\"Helvetica,sans-Serif\" font-size=\"14.00\">entropy = 0.0</text>\n<text text-anchor=\"middle\" x=\"162\" y=\"-149.3\" font-family=\"Helvetica,sans-Serif\" font-size=\"14.00\">samples = 3</text>\n<text text-anchor=\"middle\" x=\"162\" y=\"-134.3\" font-family=\"Helvetica,sans-Serif\" font-size=\"14.00\">value = [3, 0]</text>\n<text text-anchor=\"middle\" x=\"162\" y=\"-119.3\" font-family=\"Helvetica,sans-Serif\" font-size=\"14.00\">class = no</text>\n</g>\n<!-- 3&#45;&gt;7 -->\n<g id=\"edge7\" class=\"edge\">\n<title>3&#45;&gt;7</title>\n<path fill=\"none\" stroke=\"black\" d=\"M156.78,-222.91C157.51,-212.2 158.3,-200.62 159.04,-189.78\"/>\n<polygon fill=\"black\" stroke=\"black\" points=\"162.54,-189.88 159.73,-179.67 155.56,-189.4 162.54,-189.88\"/>\n</g>\n<!-- 5 -->\n<g id=\"node6\" class=\"node\">\n<title>5</title>\n<polygon fill=\"none\" stroke=\"black\" points=\"96,-68 0,-68 0,0 96,0 96,-68\"/>\n<text text-anchor=\"middle\" x=\"48\" y=\"-52.8\" font-family=\"Helvetica,sans-Serif\" font-size=\"14.00\">entropy = 0.0</text>\n<text text-anchor=\"middle\" x=\"48\" y=\"-37.8\" font-family=\"Helvetica,sans-Serif\" font-size=\"14.00\">samples = 1</text>\n<text text-anchor=\"middle\" x=\"48\" y=\"-22.8\" font-family=\"Helvetica,sans-Serif\" font-size=\"14.00\">value = [0, 1]</text>\n<text text-anchor=\"middle\" x=\"48\" y=\"-7.8\" font-family=\"Helvetica,sans-Serif\" font-size=\"14.00\">class = yes</text>\n</g>\n<!-- 4&#45;&gt;5 -->\n<g id=\"edge5\" class=\"edge\">\n<title>4&#45;&gt;5</title>\n<path fill=\"none\" stroke=\"black\" d=\"M48,-103.73C48,-95.52 48,-86.86 48,-78.56\"/>\n<polygon fill=\"black\" stroke=\"black\" points=\"51.5,-78.3 48,-68.3 44.5,-78.3 51.5,-78.3\"/>\n</g>\n<!-- 6 -->\n<g id=\"node7\" class=\"node\">\n<title>6</title>\n<polygon fill=\"none\" stroke=\"black\" points=\"210,-68 114,-68 114,0 210,0 210,-68\"/>\n<text text-anchor=\"middle\" x=\"162\" y=\"-52.8\" font-family=\"Helvetica,sans-Serif\" font-size=\"14.00\">entropy = 0.0</text>\n<text text-anchor=\"middle\" x=\"162\" y=\"-37.8\" font-family=\"Helvetica,sans-Serif\" font-size=\"14.00\">samples = 1</text>\n<text text-anchor=\"middle\" x=\"162\" y=\"-22.8\" font-family=\"Helvetica,sans-Serif\" font-size=\"14.00\">value = [1, 0]</text>\n<text text-anchor=\"middle\" x=\"162\" y=\"-7.8\" font-family=\"Helvetica,sans-Serif\" font-size=\"14.00\">class = no</text>\n</g>\n<!-- 4&#45;&gt;6 -->\n<g id=\"edge6\" class=\"edge\">\n<title>4&#45;&gt;6</title>\n<path fill=\"none\" stroke=\"black\" d=\"M90.45,-103.73C100.13,-94.42 110.42,-84.54 120.08,-75.26\"/>\n<polygon fill=\"black\" stroke=\"black\" points=\"122.54,-77.75 127.33,-68.3 117.7,-72.7 122.54,-77.75\"/>\n</g>\n<!-- 9 -->\n<g id=\"node10\" class=\"node\">\n<title>9</title>\n<polygon fill=\"none\" stroke=\"black\" points=\"324,-179.5 228,-179.5 228,-111.5 324,-111.5 324,-179.5\"/>\n<text text-anchor=\"middle\" x=\"276\" y=\"-164.3\" font-family=\"Helvetica,sans-Serif\" font-size=\"14.00\">entropy = 0.0</text>\n<text text-anchor=\"middle\" x=\"276\" y=\"-149.3\" font-family=\"Helvetica,sans-Serif\" font-size=\"14.00\">samples = 3</text>\n<text text-anchor=\"middle\" x=\"276\" y=\"-134.3\" font-family=\"Helvetica,sans-Serif\" font-size=\"14.00\">value = [0, 3]</text>\n<text text-anchor=\"middle\" x=\"276\" y=\"-119.3\" font-family=\"Helvetica,sans-Serif\" font-size=\"14.00\">class = yes</text>\n</g>\n<!-- 8&#45;&gt;9 -->\n<g id=\"edge9\" class=\"edge\">\n<title>8&#45;&gt;9</title>\n<path fill=\"none\" stroke=\"black\" d=\"M280.57,-222.91C279.93,-212.2 279.24,-200.62 278.59,-189.78\"/>\n<polygon fill=\"black\" stroke=\"black\" points=\"282.08,-189.44 277.98,-179.67 275.09,-189.86 282.08,-189.44\"/>\n</g>\n<!-- 10 -->\n<g id=\"node11\" class=\"node\">\n<title>10</title>\n<polygon fill=\"none\" stroke=\"black\" points=\"438,-187 342,-187 342,-104 438,-104 438,-187\"/>\n<text text-anchor=\"middle\" x=\"390\" y=\"-171.8\" font-family=\"Helvetica,sans-Serif\" font-size=\"14.00\">temp &lt;= 1.0</text>\n<text text-anchor=\"middle\" x=\"390\" y=\"-156.8\" font-family=\"Helvetica,sans-Serif\" font-size=\"14.00\">entropy = 1.0</text>\n<text text-anchor=\"middle\" x=\"390\" y=\"-141.8\" font-family=\"Helvetica,sans-Serif\" font-size=\"14.00\">samples = 2</text>\n<text text-anchor=\"middle\" x=\"390\" y=\"-126.8\" font-family=\"Helvetica,sans-Serif\" font-size=\"14.00\">value = [1, 1]</text>\n<text text-anchor=\"middle\" x=\"390\" y=\"-111.8\" font-family=\"Helvetica,sans-Serif\" font-size=\"14.00\">class = no</text>\n</g>\n<!-- 8&#45;&gt;10 -->\n<g id=\"edge10\" class=\"edge\">\n<title>8&#45;&gt;10</title>\n<path fill=\"none\" stroke=\"black\" d=\"M320.12,-222.91C328.51,-213.74 337.48,-203.93 346.11,-194.49\"/>\n<polygon fill=\"black\" stroke=\"black\" points=\"348.78,-196.76 352.94,-187.02 343.61,-192.04 348.78,-196.76\"/>\n</g>\n<!-- 11 -->\n<g id=\"node12\" class=\"node\">\n<title>11</title>\n<polygon fill=\"none\" stroke=\"black\" points=\"381,-68 285,-68 285,0 381,0 381,-68\"/>\n<text text-anchor=\"middle\" x=\"333\" y=\"-52.8\" font-family=\"Helvetica,sans-Serif\" font-size=\"14.00\">entropy = 0.0</text>\n<text text-anchor=\"middle\" x=\"333\" y=\"-37.8\" font-family=\"Helvetica,sans-Serif\" font-size=\"14.00\">samples = 1</text>\n<text text-anchor=\"middle\" x=\"333\" y=\"-22.8\" font-family=\"Helvetica,sans-Serif\" font-size=\"14.00\">value = [1, 0]</text>\n<text text-anchor=\"middle\" x=\"333\" y=\"-7.8\" font-family=\"Helvetica,sans-Serif\" font-size=\"14.00\">class = no</text>\n</g>\n<!-- 10&#45;&gt;11 -->\n<g id=\"edge11\" class=\"edge\">\n<title>10&#45;&gt;11</title>\n<path fill=\"none\" stroke=\"black\" d=\"M368.78,-103.73C364.26,-95.06 359.49,-85.9 354.96,-77.18\"/>\n<polygon fill=\"black\" stroke=\"black\" points=\"358.06,-75.55 350.33,-68.3 351.85,-78.79 358.06,-75.55\"/>\n</g>\n<!-- 12 -->\n<g id=\"node13\" class=\"node\">\n<title>12</title>\n<polygon fill=\"none\" stroke=\"black\" points=\"495,-68 399,-68 399,0 495,0 495,-68\"/>\n<text text-anchor=\"middle\" x=\"447\" y=\"-52.8\" font-family=\"Helvetica,sans-Serif\" font-size=\"14.00\">entropy = 0.0</text>\n<text text-anchor=\"middle\" x=\"447\" y=\"-37.8\" font-family=\"Helvetica,sans-Serif\" font-size=\"14.00\">samples = 1</text>\n<text text-anchor=\"middle\" x=\"447\" y=\"-22.8\" font-family=\"Helvetica,sans-Serif\" font-size=\"14.00\">value = [0, 1]</text>\n<text text-anchor=\"middle\" x=\"447\" y=\"-7.8\" font-family=\"Helvetica,sans-Serif\" font-size=\"14.00\">class = yes</text>\n</g>\n<!-- 10&#45;&gt;12 -->\n<g id=\"edge12\" class=\"edge\">\n<title>10&#45;&gt;12</title>\n<path fill=\"none\" stroke=\"black\" d=\"M411.22,-103.73C415.74,-95.06 420.51,-85.9 425.04,-77.18\"/>\n<polygon fill=\"black\" stroke=\"black\" points=\"428.15,-78.79 429.67,-68.3 421.94,-75.55 428.15,-78.79\"/>\n</g>\n</g>\n</svg>\n",
            "text/plain": [
              "<graphviz.sources.Source at 0x7876425618d0>"
            ]
          },
          "metadata": {},
          "execution_count": 17
        }
      ]
    },
    {
      "cell_type": "code",
      "source": [
        "# 학습한 모델을 사용하여 예측\n",
        "predict_result = decision_tree.predict(x_data)\n",
        "\n",
        "# 예측 결과 출력 (실제 정답을 맞춘 경우 True로 표시됨)\n",
        "print(predict_result == y_data)\n"
      ],
      "metadata": {
        "colab": {
          "base_uri": "https://localhost:8080/"
        },
        "id": "_X4GJdGPVSzB",
        "outputId": "019656af-a3a0-4cf3-be0c-67b724e633e9"
      },
      "execution_count": null,
      "outputs": [
        {
          "output_type": "stream",
          "name": "stdout",
          "text": [
            "0     True\n",
            "1     True\n",
            "2     True\n",
            "3     True\n",
            "4     True\n",
            "5     True\n",
            "6     True\n",
            "7     True\n",
            "8     True\n",
            "9     True\n",
            "10    True\n",
            "11    True\n",
            "12    True\n",
            "13    True\n",
            "Name: play, dtype: bool\n"
          ]
        }
      ]
    }
  ]
}